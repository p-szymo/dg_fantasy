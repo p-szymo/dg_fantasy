{
 "cells": [
  {
   "cell_type": "markdown",
   "metadata": {},
   "source": [
    "# PDGA Results\n",
    "\n",
    "## *<u>Documentation</u>*\n",
    "\n",
    "[Authorization](https://www.pdga.com/dev/api/rest/v1/auth)\n",
    "\n",
    "[API call examples](https://www.pdga.com/dev/api/rest/v1/services)\n",
    "\n",
    "> **Note**: The PDGA Developer Program is currently closed. We are not accepting new applications for the PDGA Developer Program at this time. We do anticipate opening up the program again in the future once development of an updated version of the API is complete.\n",
    "\n",
    "\n",
    "## *<u>Import functions</u>*"
   ]
  },
  {
   "cell_type": "code",
   "execution_count": 1,
   "metadata": {},
   "outputs": [],
   "source": [
    "from functions import *\n",
    "# import requests\n",
    "# from bs4 import BeautifulSoup as bs\n",
    "# import pandas as pd\n",
    "# import itertools\n",
    "import requests\n",
    "from bs4 import BeautifulSoup as bs\n",
    "import pandas as pd\n",
    "import itertools\n",
    "\n",
    "%load_ext autoreload\n",
    "%autoreload 2"
   ]
  },
  {
   "cell_type": "code",
   "execution_count": 9,
   "metadata": {},
   "outputs": [
    {
     "data": {
      "text/plain": [
       "[('DGPT - Las Vegas Challenge presented by Innova', '/tour/event/65206'),\n",
       " ('DGPT - Prodigy presents WACO', '/tour/event/66457'),\n",
       " ('DGPT - The Open at Austin presented by Lone Star Disc',\n",
       "  '/tour/event/65288'),\n",
       " ('DGPT Elite - Music City Open presented by Lone Star Disc',\n",
       "  '/tour/event/65208'),\n",
       " ('PDGA Champions Cup Presented by Bushnell', '/tour/event/64955'),\n",
       " ('DGPT - Play It Again Sports Jonesboro Open presented by Prodigy',\n",
       "  '/tour/event/66458'),\n",
       " ('DGPT - OTB Open presented by MVP Disc Sports', '/tour/event/65207'),\n",
       " ('DGPT Elite+ 2023 Portland Open presented by Latitude 64',\n",
       "  '/tour/event/69022'),\n",
       " ('DGPT - Dynamic Discs Open', '/tour/event/65289'),\n",
       " ('DGPT - The TruBank Des Moines Challenge presented by Discraft',\n",
       "  '/tour/event/67392'),\n",
       " ('DGPT - The Preserve Championship powered by Prodigy', '/tour/event/68353'),\n",
       " ('2023 PDGA Professional Masters Disc Golf World Championships',\n",
       "  '/tour/event/66511'),\n",
       " ('DGPT - ET#6 - PCS Open 2023 presented by Innova', '/tour/event/64036'),\n",
       " ('European Open 2023 presented by Discmania', '/tour/event/67202'),\n",
       " ('DGPT - Discraft Ledgestone Open', '/tour/event/65115'),\n",
       " ('DGPT - LWS Open at Idlewild presented by Dynamic Discs & The Nati',\n",
       "  '/tour/event/66174'),\n",
       " ('DGPT - Discraft Great Lakes Open', '/tour/event/65116'),\n",
       " ('2023 PDGA Professional Disc Golf World Championships Presented by L.L.Bean',\n",
       "  '/tour/event/68748'),\n",
       " ('DGPT Playoffs - MVP Open presented by OTB', '/tour/event/65291'),\n",
       " ('Disc Golf Pro Tour Championship presented by Barbasol',\n",
       "  '/tour/event/74356')]"
      ]
     },
     "execution_count": 9,
     "metadata": {},
     "output_type": "execute_result"
    }
   ],
   "source": [
    "events_list(2023)"
   ]
  },
  {
   "cell_type": "code",
   "execution_count": 3,
   "metadata": {},
   "outputs": [
    {
     "ename": "SyntaxError",
     "evalue": "invalid syntax (<ipython-input-3-bd93cd1909cb>, line 1)",
     "output_type": "error",
     "traceback": [
      "\u001b[0;36m  File \u001b[0;32m\"<ipython-input-3-bd93cd1909cb>\"\u001b[0;36m, line \u001b[0;32m1\u001b[0m\n\u001b[0;31m    please break\u001b[0m\n\u001b[0m               ^\u001b[0m\n\u001b[0;31mSyntaxError\u001b[0m\u001b[0;31m:\u001b[0m invalid syntax\n"
     ]
    }
   ],
   "source": [
    "please break"
   ]
  },
  {
   "cell_type": "code",
   "execution_count": null,
   "metadata": {},
   "outputs": [],
   "source": [
    "roster = [\n",
    "    'Simon Lizotte',\n",
    "    'Alden Harris',\n",
    "    'Aaron Gossage',\n",
    "    'James Conrad',\n",
    "    'Niklas Anttila'\n",
    "]"
   ]
  },
  {
   "cell_type": "code",
   "execution_count": null,
   "metadata": {},
   "outputs": [],
   "source": [
    "players = [Player(player) for player in roster]\n",
    "players"
   ]
  },
  {
   "cell_type": "code",
   "execution_count": null,
   "metadata": {},
   "outputs": [],
   "source": [
    "mvp_open = Event('MVP Open', 2023)\n",
    "mvp_open"
   ]
  },
  {
   "cell_type": "code",
   "execution_count": null,
   "metadata": {},
   "outputs": [],
   "source": [
    "mvp_open.results_df.head()"
   ]
  },
  {
   "cell_type": "code",
   "execution_count": null,
   "metadata": {},
   "outputs": [],
   "source": [
    "mvp_open.save_event_results('csv_results/')"
   ]
  },
  {
   "cell_type": "code",
   "execution_count": null,
   "metadata": {},
   "outputs": [],
   "source": []
  },
  {
   "cell_type": "code",
   "execution_count": null,
   "metadata": {},
   "outputs": [],
   "source": [
    "event_url, event_official_name = event_parser('a', 'https://www.pdga.com/tour/search?OfficialName=mvp%20open&date_filter[min][date]=2023-01-01&date_filter[max][date]=2023-12-31')\n",
    "event_url, event_official_name"
   ]
  },
  {
   "cell_type": "code",
   "execution_count": null,
   "metadata": {},
   "outputs": [],
   "source": [
    "pro_events[0].select('a[href*=\"/tour/event/\"]')[0]['href']"
   ]
  },
  {
   "cell_type": "code",
   "execution_count": null,
   "metadata": {
    "scrolled": true
   },
   "outputs": [],
   "source": [
    "pro_events[0].__dict__"
   ]
  },
  {
   "cell_type": "code",
   "execution_count": null,
   "metadata": {},
   "outputs": [],
   "source": [
    "pro_events[0].select('a[href*=\"https://www.pdga.com/tour/event/\"]')"
   ]
  },
  {
   "cell_type": "code",
   "execution_count": null,
   "metadata": {},
   "outputs": [],
   "source": []
  },
  {
   "cell_type": "code",
   "execution_count": null,
   "metadata": {},
   "outputs": [],
   "source": [
    "odd_rows"
   ]
  },
  {
   "cell_type": "code",
   "execution_count": null,
   "metadata": {},
   "outputs": [],
   "source": [
    "class Event:\n",
    "    \n",
    "    def __init__(self, name, year):\n",
    "        self.name = name.strip()\n",
    "        self.year = int(year)\n",
    "        \n",
    "        self._base_url = 'https://www.pdga.com/tour/search'\n",
    "        self._event_name = self.name.replace(' ','%20')\n",
    "        self._min_date = f'{self.year}-01-01'\n",
    "        self._max_date = f'{self.year}-12-31'\n",
    "        self.search_url = f'{self._base_url}?OfficialName={self._event_name}&date_filter[min][date]={self._min_date}&date_filter[max][date]={self._max_date}\n",
    "        \n",
    "        soup = soupify(self.search_url)\n",
    "        \n",
    "        self.event_number = \n",
    "        self.event_url = \n",
    "        '"
   ]
  },
  {
   "cell_type": "code",
   "execution_count": null,
   "metadata": {},
   "outputs": [],
   "source": [
    "players[0].__dict__"
   ]
  },
  {
   "cell_type": "code",
   "execution_count": null,
   "metadata": {},
   "outputs": [],
   "source": [
    "events_url = 'https://www.pdga.com/elite-series'\n",
    "\n",
    "events = events_list(events_url)\n",
    "\n",
    "events += [\n",
    "    ('Portland Open', 'https://www.pdga.com/tour/event/69022'),\n",
    "    ('Des Moines Challenge', 'https://www.pdga.com/tour/event/67392'),\n",
    "    ('The Preserve Championship', 'https://www.pdga.com/tour/event/68353'),\n",
    "    ('PCS Open', 'https://www.pdga.com/tour/event/64036'),\n",
    "    ('USDGC', 'https://www.pdga.com/tour/event/64957')\n",
    "]\n",
    "\n",
    "for event in events:\n",
    "    print(f'{event[0]} : {event[1]}')"
   ]
  },
  {
   "cell_type": "code",
   "execution_count": null,
   "metadata": {
    "scrolled": true
   },
   "outputs": [],
   "source": [
    "results = {\n",
    "    event[0]: results(\n",
    "        event[0], event[1], save_df=False # save_df=True\n",
    "    ) for event in events\n",
    "}"
   ]
  },
  {
   "cell_type": "code",
   "execution_count": null,
   "metadata": {},
   "outputs": [],
   "source": [
    "total_results_by_players = total_scorer(results, roster)"
   ]
  },
  {
   "cell_type": "code",
   "execution_count": null,
   "metadata": {},
   "outputs": [],
   "source": [
    "print_output(total_results_by_players)"
   ]
  },
  {
   "cell_type": "code",
   "execution_count": null,
   "metadata": {},
   "outputs": [],
   "source": []
  }
 ],
 "metadata": {
  "kernelspec": {
   "display_name": "Python 3",
   "language": "python",
   "name": "python3"
  },
  "language_info": {
   "codemirror_mode": {
    "name": "ipython",
    "version": 3
   },
   "file_extension": ".py",
   "mimetype": "text/x-python",
   "name": "python",
   "nbconvert_exporter": "python",
   "pygments_lexer": "ipython3",
   "version": "3.6.9"
  }
 },
 "nbformat": 4,
 "nbformat_minor": 2
}
