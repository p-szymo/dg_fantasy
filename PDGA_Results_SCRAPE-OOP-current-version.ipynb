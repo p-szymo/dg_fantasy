{
 "cells": [
  {
   "cell_type": "markdown",
   "metadata": {},
   "source": [
    "# PDGA Results\n",
    "\n",
    "## *<u>Documentation</u>*\n",
    "\n",
    "[Authorization](https://www.pdga.com/dev/api/rest/v1/auth)\n",
    "\n",
    "[API call examples](https://www.pdga.com/dev/api/rest/v1/services)\n",
    "\n",
    "> **Note**: The PDGA Developer Program is currently closed. We are not accepting new applications for the PDGA Developer Program at this time. We do anticipate opening up the program again in the future once development of an updated version of the API is complete.\n",
    "\n",
    "\n",
    "## *<u>Import functions</u>*"
   ]
  },
  {
   "cell_type": "code",
   "execution_count": 1,
   "metadata": {},
   "outputs": [],
   "source": [
    "from functions import *\n",
    "# import requests\n",
    "# from bs4 import BeautifulSoup as bs\n",
    "# import pandas as pd\n",
    "# import itertools\n",
    "\n",
    "%load_ext autoreload\n",
    "%autoreload 2"
   ]
  },
  {
   "cell_type": "code",
   "execution_count": null,
   "metadata": {},
   "outputs": [],
   "source": [
    "class Player:\n",
    "    \n",
    "    def __init__(self, name):\n",
    "        self.name = name\n",
    "        \n",
    "        "
   ]
  },
  {
   "cell_type": "code",
   "execution_count": 2,
   "metadata": {},
   "outputs": [
    {
     "name": "stdout",
     "output_type": "stream",
     "text": [
      "Las Vegas Challenge : https://www.pdga.com/tour/event/65206\n",
      "Waco Annual Charity Open : https://www.pdga.com/tour/event/66457\n",
      "The Open at Austin : https://www.pdga.com/tour/event/65288\n",
      "Music City Open : https://www.pdga.com/tour/event/65208\n",
      "Jonesboro Open : https://www.pdga.com/tour/event/66458\n",
      "OTB Open : https://www.pdga.com/tour/event/65207\n",
      "Dynamic Discs Open : https://www.pdga.com/tour/event/65289\n",
      "Ledgestone Open : https://www.pdga.com/tour/event/65115\n",
      "Idlewild Open : https://www.pdga.com/tour/event/66174\n",
      "Great Lakes Open : https://www.pdga.com/tour/event/65116\n",
      "MVP Open : https://www.pdga.com/tour/event/65291\n",
      "Portland Open : https://www.pdga.com/tour/event/69022\n",
      "Des Moines Challenge : https://www.pdga.com/tour/event/67392\n",
      "The Preserve Championship : https://www.pdga.com/tour/event/68353\n",
      "PCS Open : https://www.pdga.com/tour/event/64036\n",
      "USDGC : https://www.pdga.com/tour/event/64957\n"
     ]
    }
   ],
   "source": [
    "events_url = 'https://www.pdga.com/elite-series'\n",
    "\n",
    "events = events_list(events_url)\n",
    "\n",
    "events += [\n",
    "    ('Portland Open', 'https://www.pdga.com/tour/event/69022'),\n",
    "    ('Des Moines Challenge', 'https://www.pdga.com/tour/event/67392'),\n",
    "    ('The Preserve Championship', 'https://www.pdga.com/tour/event/68353'),\n",
    "    ('PCS Open', 'https://www.pdga.com/tour/event/64036'),\n",
    "    ('USDGC', 'https://www.pdga.com/tour/event/64957')\n",
    "]\n",
    "\n",
    "for event in events:\n",
    "    print(f'{event[0]} : {event[1]}')"
   ]
  },
  {
   "cell_type": "code",
   "execution_count": 3,
   "metadata": {
    "scrolled": true
   },
   "outputs": [],
   "source": [
    "results = {\n",
    "    event[0]: results(\n",
    "        event[0], event[1], save_df=False # save_df=True\n",
    "    ) for event in events\n",
    "}"
   ]
  },
  {
   "cell_type": "code",
   "execution_count": 4,
   "metadata": {},
   "outputs": [],
   "source": [
    "roster = [\n",
    "    'Simon Lizotte',\n",
    "    'Alden Harris',\n",
    "    'Aaron Gossage',\n",
    "    'James Conrad',\n",
    "    'Niklas Anttila'\n",
    "]"
   ]
  },
  {
   "cell_type": "code",
   "execution_count": 5,
   "metadata": {},
   "outputs": [],
   "source": [
    "total_results_by_players = total_scorer(results, roster)"
   ]
  },
  {
   "cell_type": "code",
   "execution_count": 7,
   "metadata": {},
   "outputs": [
    {
     "name": "stdout",
     "output_type": "stream",
     "text": [
      "\n",
      "*******************\n",
      "-- Simon Lizotte --\n",
      "*******************\n",
      "Number of events: 13\n",
      "Total score: 197\n",
      "Average score: 15.154\n",
      "\n",
      "\n",
      "******************\n",
      "-- Alden Harris --\n",
      "******************\n",
      "Number of events: 15\n",
      "Total score: 338\n",
      "Average score: 22.533\n",
      "\n",
      "\n",
      "*******************\n",
      "-- Aaron Gossage --\n",
      "*******************\n",
      "Number of events: 16\n",
      "Total score: 292\n",
      "Average score: 18.25\n",
      "\n",
      "\n",
      "******************\n",
      "-- James Conrad --\n",
      "******************\n",
      "Number of events: 15\n",
      "Total score: 480\n",
      "Average score: 32.0\n",
      "\n",
      "\n",
      "********************\n",
      "-- Niklas Anttila --\n",
      "********************\n",
      "Number of events: 8\n",
      "Total score: 282\n",
      "Average score: 35.25\n",
      "\n"
     ]
    }
   ],
   "source": [
    "print_output(total_results_by_players)"
   ]
  },
  {
   "cell_type": "code",
   "execution_count": null,
   "metadata": {},
   "outputs": [],
   "source": []
  }
 ],
 "metadata": {
  "kernelspec": {
   "display_name": "Python 3",
   "language": "python",
   "name": "python3"
  },
  "language_info": {
   "codemirror_mode": {
    "name": "ipython",
    "version": 3
   },
   "file_extension": ".py",
   "mimetype": "text/x-python",
   "name": "python",
   "nbconvert_exporter": "python",
   "pygments_lexer": "ipython3",
   "version": "3.6.9"
  }
 },
 "nbformat": 4,
 "nbformat_minor": 2
}
