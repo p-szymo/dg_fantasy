{
 "cells": [
  {
   "cell_type": "markdown",
   "metadata": {},
   "source": [
    "# PDGA Results\n",
    "\n",
    "## *<u>Documentation</u>*\n",
    "\n",
    "[Authorization](https://www.pdga.com/dev/api/rest/v1/auth)\n",
    "\n",
    "[API call examples](https://www.pdga.com/dev/api/rest/v1/services)\n",
    "\n",
    "> **Note**: The PDGA Developer Program is currently closed. We are not accepting new applications for the PDGA Developer Program at this time. We do anticipate opening up the program again in the future once development of an updated version of the API is complete.\n",
    "\n",
    "\n",
    "## *<u>Import functions</u>*"
   ]
  },
  {
   "cell_type": "code",
   "execution_count": 1,
   "metadata": {},
   "outputs": [],
   "source": [
    "from functions import *\n",
    "# import requests\n",
    "# from bs4 import BeautifulSoup as bs\n",
    "# import pandas as pd\n",
    "# import itertools\n",
    "import requests\n",
    "from bs4 import BeautifulSoup as bs\n",
    "import pandas as pd\n",
    "import numpy as np\n",
    "import itertools\n",
    "import time\n",
    "\n",
    "%load_ext autoreload\n",
    "%autoreload 2"
   ]
  },
  {
   "cell_type": "code",
   "execution_count": 2,
   "metadata": {},
   "outputs": [
    {
     "data": {
      "text/plain": [
       "['https://www.pdga.com/player/75412',\n",
       " 'https://www.pdga.com/player/45971',\n",
       " 'https://www.pdga.com/player/50670',\n",
       " 'https://www.pdga.com/player/38008',\n",
       " 'https://www.pdga.com/player/8332']"
      ]
     },
     "execution_count": 2,
     "metadata": {},
     "output_type": "execute_result"
    }
   ],
   "source": [
    "players_links = players_links_list()\n",
    "players_links[:5]"
   ]
  },
  {
   "cell_type": "code",
   "execution_count": 10,
   "metadata": {},
   "outputs": [],
   "source": [
    "players = []\n",
    "errors = []\n",
    "\n",
    "for link in players_links:\n",
    "    try:\n",
    "        players.append(Player(url=link))\n",
    "    except:\n",
    "        print(link)\n",
    "        errors.append(link)\n",
    "    time.sleep(1)"
   ]
  },
  {
   "cell_type": "code",
   "execution_count": 11,
   "metadata": {},
   "outputs": [
    {
     "data": {
      "text/plain": [
       "[Gannon Buhr,\n",
       " Calvin Heimburg,\n",
       " Isaac Robinson,\n",
       " Richard Wysocki,\n",
       " Simon Lizotte,\n",
       " Matthew Orum,\n",
       " Kyle Klein,\n",
       " Eagle McMahon,\n",
       " Anthony Barela,\n",
       " Chris Dickerson,\n",
       " Paul McBeth,\n",
       " James Proctor,\n",
       " Alden Harris,\n",
       " Niklas Anttila,\n",
       " Cole Redalen,\n",
       " Ezra Robinson,\n",
       " Ezra Aderhold,\n",
       " James Conrad,\n",
       " Joel Freeman,\n",
       " Adam Hammes,\n",
       " Corey Ellis,\n",
       " Kevin Jones,\n",
       " Chris Clemons,\n",
       " Väinö Mäkelä,\n",
       " Benjamin Callaway,\n",
       " Bradley Williams,\n",
       " Mason Ford,\n",
       " Emerson Keith,\n",
       " Aaron Gossage,\n",
       " Andrew Presnell,\n",
       " Evan Smith,\n",
       " Austin Turner,\n",
       " Gavin Babcock,\n",
       " Paul Ulibarri,\n",
       " Andrew Marwede,\n",
       " Joona Heinänen,\n",
       " Nikko Locastro,\n",
       " Garrett Gurthie,\n",
       " Brodie Smith,\n",
       " Robert Burridge,\n",
       " Zach Arlinghaus,\n",
       " Matt Bell,\n",
       " Evan Scott,\n",
       " Jake Hebenheimer,\n",
       " Jeremy Koling,\n",
       " Aidan Scott,\n",
       " Eric Oakley,\n",
       " Chandler Kramer,\n",
       " Jakub Semerád,\n",
       " Parker Welck,\n",
       " Silas Schultz,\n",
       " Nathan Sexton,\n",
       " Luke Taylor,\n",
       " Drew Gibson,\n",
       " Andrew Fish,\n",
       " Luke Humphries,\n",
       " Gavin Rathbun,\n",
       " Gregg Barsby,\n",
       " Sullivan Tipton,\n",
       " Albert Tamm,\n",
       " Jake Monn,\n",
       " Tristan Tanner,\n",
       " Paul Oman,\n",
       " Kevin Kiefer III,\n",
       " Grady Shue,\n",
       " Raven Newsom,\n",
       " Casey White,\n",
       " Linus Carlsson,\n",
       " Austin Hannum,\n",
       " Scott Withers,\n",
       " Thomas Gilbert,\n",
       " Chandler Fry,\n",
       " Luke Samson,\n",
       " Ty Love,\n",
       " AJ Carey,\n",
       " Dylan Seppala,\n",
       " G.T. Hancock,\n",
       " Tuomas Hyytiäinen,\n",
       " Micah Groth,\n",
       " Joseph Anderson,\n",
       " Nathan Queen,\n",
       " Braeden Sides,\n",
       " Mason Marchbanks,\n",
       " Colten Montgomery,\n",
       " Ben Wolff,\n",
       " Connor O'Reilly,\n",
       " Nick Newton,\n",
       " Nate Hecker,\n",
       " Jared Stoll,\n",
       " Tim Barham,\n",
       " Garett Everson,\n",
       " Max Regitnig,\n",
       " Zachary Nash,\n",
       " Cody Kirkland,\n",
       " Randon Latta,\n",
       " Harry Chace,\n",
       " Clay Edwards,\n",
       " Zackeriath Johnson,\n",
       " Joshua Anthon,\n",
       " Nick Hanson,\n",
       " Jake Wolff,\n",
       " Fredy Meza,\n",
       " Noah Meintsma,\n",
       " Clint Calvin,\n",
       " Justin Rosak,\n",
       " Connor Rock,\n",
       " Jonathan Fletcher,\n",
       " John Jones,\n",
       " Nicholas Gill,\n",
       " Jaden Rye,\n",
       " Jake Brown,\n",
       " Dustin Keegan,\n",
       " Zach Melton,\n",
       " Knut Valen Håland,\n",
       " Michael Johansen,\n",
       " Silver Lätt,\n",
       " Gavin Phillips,\n",
       " Dylan Horst]"
      ]
     },
     "execution_count": 11,
     "metadata": {},
     "output_type": "execute_result"
    }
   ],
   "source": [
    "players"
   ]
  },
  {
   "cell_type": "code",
   "execution_count": 12,
   "metadata": {},
   "outputs": [
    {
     "data": {
      "text/plain": [
       "[]"
      ]
     },
     "execution_count": 12,
     "metadata": {},
     "output_type": "execute_result"
    }
   ],
   "source": [
    "errors"
   ]
  },
  {
   "cell_type": "code",
   "execution_count": 6,
   "metadata": {},
   "outputs": [
    {
     "ename": "SyntaxError",
     "evalue": "invalid syntax (<ipython-input-6-bd93cd1909cb>, line 1)",
     "output_type": "error",
     "traceback": [
      "\u001b[0;36m  File \u001b[0;32m\"<ipython-input-6-bd93cd1909cb>\"\u001b[0;36m, line \u001b[0;32m1\u001b[0m\n\u001b[0;31m    please break\u001b[0m\n\u001b[0m               ^\u001b[0m\n\u001b[0;31mSyntaxError\u001b[0m\u001b[0;31m:\u001b[0m invalid syntax\n"
     ]
    }
   ],
   "source": [
    "please break"
   ]
  },
  {
   "cell_type": "code",
   "execution_count": null,
   "metadata": {},
   "outputs": [],
   "source": [
    "players = [Player(url=link) for link in players_links]\n",
    "players[:5]"
   ]
  },
  {
   "cell_type": "code",
   "execution_count": null,
   "metadata": {},
   "outputs": [],
   "source": [
    "roster = [\n",
    "    'Simon Lizotte',\n",
    "    'Alden Harris',\n",
    "    'Aaron Gossage',\n",
    "    'James Conrad',\n",
    "    'Niklas Anttila'\n",
    "]"
   ]
  },
  {
   "cell_type": "code",
   "execution_count": null,
   "metadata": {},
   "outputs": [],
   "source": [
    "players = [Player(player) for player in roster]\n",
    "players"
   ]
  },
  {
   "cell_type": "code",
   "execution_count": null,
   "metadata": {},
   "outputs": [],
   "source": [
    "event_details = events_list(2023)\n",
    "event_details"
   ]
  },
  {
   "cell_type": "code",
   "execution_count": null,
   "metadata": {
    "scrolled": true
   },
   "outputs": [],
   "source": [
    "events = [Event(event_name, url=event_url) for event_name, event_url in event_details]\n",
    "events"
   ]
  },
  {
   "cell_type": "code",
   "execution_count": null,
   "metadata": {},
   "outputs": [],
   "source": [
    "for player in players:\n",
    "    for event in events:\n",
    "        player.fantasy_score(event)"
   ]
  },
  {
   "cell_type": "code",
   "execution_count": null,
   "metadata": {},
   "outputs": [],
   "source": [
    "for player in players:\n",
    "    player.years_results(2023)"
   ]
  },
  {
   "cell_type": "code",
   "execution_count": null,
   "metadata": {},
   "outputs": [],
   "source": [
    "josh = Team('Joshua Szymanowski', 'The Holy Rollers')"
   ]
  },
  {
   "cell_type": "code",
   "execution_count": null,
   "metadata": {},
   "outputs": [],
   "source": [
    "josh"
   ]
  },
  {
   "cell_type": "code",
   "execution_count": null,
   "metadata": {},
   "outputs": [],
   "source": [
    "josh.active_players"
   ]
  },
  {
   "cell_type": "code",
   "execution_count": null,
   "metadata": {},
   "outputs": [],
   "source": [
    "please break"
   ]
  },
  {
   "cell_type": "code",
   "execution_count": null,
   "metadata": {},
   "outputs": [],
   "source": [
    "event_parser_initial(mvp_open._soup)"
   ]
  },
  {
   "cell_type": "code",
   "execution_count": null,
   "metadata": {},
   "outputs": [],
   "source": [
    "mvp_open.__dict__.keys()"
   ]
  },
  {
   "cell_type": "code",
   "execution_count": null,
   "metadata": {},
   "outputs": [],
   "source": [
    "mvp_open.results_df.head()"
   ]
  },
  {
   "cell_type": "code",
   "execution_count": null,
   "metadata": {},
   "outputs": [],
   "source": [
    "mvp_open.save_event_results('csv_results/')"
   ]
  },
  {
   "cell_type": "code",
   "execution_count": null,
   "metadata": {},
   "outputs": [],
   "source": []
  },
  {
   "cell_type": "code",
   "execution_count": null,
   "metadata": {},
   "outputs": [],
   "source": [
    "event_url, event_official_name = event_parser('a', 'https://www.pdga.com/tour/search?OfficialName=mvp%20open&date_filter[min][date]=2023-01-01&date_filter[max][date]=2023-12-31')\n",
    "event_url, event_official_name"
   ]
  },
  {
   "cell_type": "code",
   "execution_count": null,
   "metadata": {},
   "outputs": [],
   "source": [
    "pro_events[0].select('a[href*=\"/tour/event/\"]')[0]['href']"
   ]
  },
  {
   "cell_type": "code",
   "execution_count": null,
   "metadata": {
    "scrolled": true
   },
   "outputs": [],
   "source": [
    "pro_events[0].__dict__"
   ]
  },
  {
   "cell_type": "code",
   "execution_count": null,
   "metadata": {},
   "outputs": [],
   "source": [
    "pro_events[0].select('a[href*=\"https://www.pdga.com/tour/event/\"]')"
   ]
  },
  {
   "cell_type": "code",
   "execution_count": null,
   "metadata": {},
   "outputs": [],
   "source": []
  },
  {
   "cell_type": "code",
   "execution_count": null,
   "metadata": {},
   "outputs": [],
   "source": [
    "odd_rows"
   ]
  },
  {
   "cell_type": "code",
   "execution_count": null,
   "metadata": {},
   "outputs": [],
   "source": [
    "class Event:\n",
    "    \n",
    "    def __init__(self, name, year):\n",
    "        self.name = name.strip()\n",
    "        self.year = int(year)\n",
    "        \n",
    "        self._base_url = 'https://www.pdga.com/tour/search'\n",
    "        self._event_name = self.name.replace(' ','%20')\n",
    "        self._min_date = f'{self.year}-01-01'\n",
    "        self._max_date = f'{self.year}-12-31'\n",
    "        self.search_url = f'{self._base_url}?OfficialName={self._event_name}&date_filter[min][date]={self._min_date}&date_filter[max][date]={self._max_date}\n",
    "        \n",
    "        soup = soupify(self.search_url)\n",
    "        \n",
    "        self.event_number = \n",
    "        self.event_url = \n",
    "        '"
   ]
  },
  {
   "cell_type": "code",
   "execution_count": null,
   "metadata": {},
   "outputs": [],
   "source": [
    "players[0].__dict__"
   ]
  },
  {
   "cell_type": "code",
   "execution_count": null,
   "metadata": {},
   "outputs": [],
   "source": [
    "events_url = 'https://www.pdga.com/elite-series'\n",
    "\n",
    "events = events_list(events_url)\n",
    "\n",
    "events += [\n",
    "    ('Portland Open', 'https://www.pdga.com/tour/event/69022'),\n",
    "    ('Des Moines Challenge', 'https://www.pdga.com/tour/event/67392'),\n",
    "    ('The Preserve Championship', 'https://www.pdga.com/tour/event/68353'),\n",
    "    ('PCS Open', 'https://www.pdga.com/tour/event/64036'),\n",
    "    ('USDGC', 'https://www.pdga.com/tour/event/64957')\n",
    "]\n",
    "\n",
    "for event in events:\n",
    "    print(f'{event[0]} : {event[1]}')"
   ]
  },
  {
   "cell_type": "code",
   "execution_count": null,
   "metadata": {
    "scrolled": true
   },
   "outputs": [],
   "source": [
    "results = {\n",
    "    event[0]: results(\n",
    "        event[0], event[1], save_df=False # save_df=True\n",
    "    ) for event in events\n",
    "}"
   ]
  },
  {
   "cell_type": "code",
   "execution_count": null,
   "metadata": {},
   "outputs": [],
   "source": [
    "total_results_by_players = total_scorer(results, roster)"
   ]
  },
  {
   "cell_type": "code",
   "execution_count": null,
   "metadata": {},
   "outputs": [],
   "source": [
    "print_output(total_results_by_players)"
   ]
  },
  {
   "cell_type": "code",
   "execution_count": null,
   "metadata": {},
   "outputs": [],
   "source": []
  }
 ],
 "metadata": {
  "kernelspec": {
   "display_name": "Python 3",
   "language": "python",
   "name": "python3"
  },
  "language_info": {
   "codemirror_mode": {
    "name": "ipython",
    "version": 3
   },
   "file_extension": ".py",
   "mimetype": "text/x-python",
   "name": "python",
   "nbconvert_exporter": "python",
   "pygments_lexer": "ipython3",
   "version": "3.6.9"
  }
 },
 "nbformat": 4,
 "nbformat_minor": 2
}
