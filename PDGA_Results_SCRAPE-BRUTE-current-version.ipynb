{
 "cells": [
  {
   "cell_type": "markdown",
   "metadata": {},
   "source": [
    "# PDGA Results\n",
    "\n",
    "## *<u>Documentation</u>*\n",
    "\n",
    "[Authorization](https://www.pdga.com/dev/api/rest/v1/auth)\n",
    "\n",
    "[API call examples](https://www.pdga.com/dev/api/rest/v1/services)\n",
    "\n",
    "> **Note**: The PDGA Developer Program is currently closed. We are not accepting new applications for the PDGA Developer Program at this time. We do anticipate opening up the program again in the future once development of an updated version of the API is complete.\n",
    "\n",
    "\n",
    "## *<u>Import functions</u>*"
   ]
  },
  {
   "cell_type": "code",
   "execution_count": 1,
   "metadata": {},
   "outputs": [],
   "source": [
    "from functions import *\n",
    "# import requests\n",
    "# from bs4 import BeautifulSoup as bs\n",
    "# import pandas as pd\n",
    "# import itertools\n",
    "\n",
    "%load_ext autoreload\n",
    "%autoreload 2"
   ]
  },
  {
   "cell_type": "code",
   "execution_count": 2,
   "metadata": {},
   "outputs": [
    {
     "name": "stdout",
     "output_type": "stream",
     "text": [
      "Las Vegas Challenge : https://www.pdga.com/tour/event/65206\n",
      "Waco Annual Charity Open : https://www.pdga.com/tour/event/66457\n",
      "The Open at Austin : https://www.pdga.com/tour/event/65288\n",
      "Music City Open : https://www.pdga.com/tour/event/65208\n",
      "Jonesboro Open : https://www.pdga.com/tour/event/66458\n",
      "OTB Open : https://www.pdga.com/tour/event/65207\n",
      "Dynamic Discs Open : https://www.pdga.com/tour/event/65289\n",
      "Ledgestone Open : https://www.pdga.com/tour/event/65115\n",
      "Idlewild Open : https://www.pdga.com/tour/event/66174\n",
      "Great Lakes Open : https://www.pdga.com/tour/event/65116\n",
      "MVP Open : https://www.pdga.com/tour/event/65291\n",
      "Portland Open : https://www.pdga.com/tour/event/69022\n",
      "Des Moines Challenge : https://www.pdga.com/tour/event/67392\n",
      "The Preserve Championship : https://www.pdga.com/tour/event/68353\n",
      "PCS Open : https://www.pdga.com/tour/event/64036\n",
      "USDGC : https://www.pdga.com/tour/event/64957\n"
     ]
    }
   ],
   "source": [
    "events_url = 'https://www.pdga.com/elite-series'\n",
    "\n",
    "events = events_list(events_url)\n",
    "\n",
    "events += [\n",
    "    ('Portland Open', 'https://www.pdga.com/tour/event/69022'),\n",
    "    ('Des Moines Challenge', 'https://www.pdga.com/tour/event/67392'),\n",
    "    ('The Preserve Championship', 'https://www.pdga.com/tour/event/68353'),\n",
    "    ('PCS Open', 'https://www.pdga.com/tour/event/64036'),\n",
    "    ('USDGC', 'https://www.pdga.com/tour/event/64957')\n",
    "]\n",
    "\n",
    "for event in events:\n",
    "    print(f'{event[0]} : {event[1]}')"
   ]
  },
  {
   "cell_type": "code",
   "execution_count": 3,
   "metadata": {
    "scrolled": true
   },
   "outputs": [],
   "source": [
    "results = {\n",
    "    event[0]: results(\n",
    "        event[0], event[1], save_df=False # save_df=True\n",
    "    ) for event in events\n",
    "}"
   ]
  },
  {
   "cell_type": "code",
   "execution_count": 4,
   "metadata": {},
   "outputs": [],
   "source": [
    "roster = [\n",
    "    'Simon Lizotte',\n",
    "    'Alden Harris',\n",
    "    'Aaron Gossage',\n",
    "    'James Conrad',\n",
    "    'Niklas Anttila'\n",
    "]"
   ]
  },
  {
   "cell_type": "code",
   "execution_count": 5,
   "metadata": {},
   "outputs": [],
   "source": [
    "total_results_by_players = total_scorer(results, roster)"
   ]
  },
  {
   "cell_type": "code",
   "execution_count": 7,
   "metadata": {},
   "outputs": [
    {
     "name": "stdout",
     "output_type": "stream",
     "text": [
      "\n",
      "*******************\n",
      "-- Simon Lizotte --\n",
      "*******************\n",
      "Number of events: 13\n",
      "Total score: 197\n",
      "Average score: 15.154\n",
      "\n",
      "\n",
      "******************\n",
      "-- Alden Harris --\n",
      "******************\n",
      "Number of events: 15\n",
      "Total score: 338\n",
      "Average score: 22.533\n",
      "\n",
      "\n",
      "*******************\n",
      "-- Aaron Gossage --\n",
      "*******************\n",
      "Number of events: 16\n",
      "Total score: 292\n",
      "Average score: 18.25\n",
      "\n",
      "\n",
      "******************\n",
      "-- James Conrad --\n",
      "******************\n",
      "Number of events: 15\n",
      "Total score: 480\n",
      "Average score: 32.0\n",
      "\n",
      "\n",
      "********************\n",
      "-- Niklas Anttila --\n",
      "********************\n",
      "Number of events: 8\n",
      "Total score: 282\n",
      "Average score: 35.25\n",
      "\n"
     ]
    }
   ],
   "source": [
    "print_output(total_results_by_players)"
   ]
  },
  {
   "cell_type": "code",
   "execution_count": 9,
   "metadata": {},
   "outputs": [
    {
     "data": {
      "text/html": [
       "<div>\n",
       "<style scoped>\n",
       "    .dataframe tbody tr th:only-of-type {\n",
       "        vertical-align: middle;\n",
       "    }\n",
       "\n",
       "    .dataframe tbody tr th {\n",
       "        vertical-align: top;\n",
       "    }\n",
       "\n",
       "    .dataframe thead th {\n",
       "        text-align: right;\n",
       "    }\n",
       "</style>\n",
       "<table border=\"1\" class=\"dataframe\">\n",
       "  <thead>\n",
       "    <tr style=\"text-align: right;\">\n",
       "      <th></th>\n",
       "      <th>Place</th>\n",
       "      <th>Player</th>\n",
       "      <th>PDGA Number</th>\n",
       "      <th>Player Rating</th>\n",
       "      <th>Score</th>\n",
       "    </tr>\n",
       "  </thead>\n",
       "  <tbody>\n",
       "    <tr>\n",
       "      <td>0</td>\n",
       "      <td>1</td>\n",
       "      <td>Calvin Heimburg</td>\n",
       "      <td>45971</td>\n",
       "      <td>1041</td>\n",
       "      <td>-31</td>\n",
       "    </tr>\n",
       "    <tr>\n",
       "      <td>1</td>\n",
       "      <td>2</td>\n",
       "      <td>Ezra Aderhold</td>\n",
       "      <td>121715</td>\n",
       "      <td>1029</td>\n",
       "      <td>-29</td>\n",
       "    </tr>\n",
       "    <tr>\n",
       "      <td>2</td>\n",
       "      <td>2</td>\n",
       "      <td>Kevin Jones</td>\n",
       "      <td>41760</td>\n",
       "      <td>1031</td>\n",
       "      <td>-29</td>\n",
       "    </tr>\n",
       "    <tr>\n",
       "      <td>3</td>\n",
       "      <td>4</td>\n",
       "      <td>Kyle Klein</td>\n",
       "      <td>85132</td>\n",
       "      <td>1039</td>\n",
       "      <td>-28</td>\n",
       "    </tr>\n",
       "    <tr>\n",
       "      <td>4</td>\n",
       "      <td>4</td>\n",
       "      <td>Drew Gibson</td>\n",
       "      <td>48346</td>\n",
       "      <td>1035</td>\n",
       "      <td>-28</td>\n",
       "    </tr>\n",
       "    <tr>\n",
       "      <td>...</td>\n",
       "      <td>...</td>\n",
       "      <td>...</td>\n",
       "      <td>...</td>\n",
       "      <td>...</td>\n",
       "      <td>...</td>\n",
       "    </tr>\n",
       "    <tr>\n",
       "      <td>114</td>\n",
       "      <td>115</td>\n",
       "      <td>Mark Turner</td>\n",
       "      <td>199745</td>\n",
       "      <td>989</td>\n",
       "      <td>+21</td>\n",
       "    </tr>\n",
       "    <tr>\n",
       "      <td>115</td>\n",
       "      <td>116</td>\n",
       "      <td>Josh Bergquist</td>\n",
       "      <td>72478</td>\n",
       "      <td>961</td>\n",
       "      <td>+23</td>\n",
       "    </tr>\n",
       "    <tr>\n",
       "      <td>116</td>\n",
       "      <td>117</td>\n",
       "      <td>Tommy Gunz Trujillo III</td>\n",
       "      <td>71392</td>\n",
       "      <td>953</td>\n",
       "      <td>+24</td>\n",
       "    </tr>\n",
       "    <tr>\n",
       "      <td>117</td>\n",
       "      <td>118</td>\n",
       "      <td>Gavin Babcock</td>\n",
       "      <td>80331</td>\n",
       "      <td>1016</td>\n",
       "      <td>DNF</td>\n",
       "    </tr>\n",
       "    <tr>\n",
       "      <td>118</td>\n",
       "      <td>118</td>\n",
       "      <td>Jeremy Koling</td>\n",
       "      <td>33705</td>\n",
       "      <td>1020</td>\n",
       "      <td>DNF</td>\n",
       "    </tr>\n",
       "  </tbody>\n",
       "</table>\n",
       "<p>119 rows × 5 columns</p>\n",
       "</div>"
      ],
      "text/plain": [
       "     Place                   Player  PDGA Number  Player Rating Score\n",
       "0        1          Calvin Heimburg        45971           1041   -31\n",
       "1        2            Ezra Aderhold       121715           1029   -29\n",
       "2        2              Kevin Jones        41760           1031   -29\n",
       "3        4               Kyle Klein        85132           1039   -28\n",
       "4        4              Drew Gibson        48346           1035   -28\n",
       "..     ...                      ...          ...            ...   ...\n",
       "114    115              Mark Turner       199745            989   +21\n",
       "115    116           Josh Bergquist        72478            961   +23\n",
       "116    117  Tommy Gunz Trujillo III        71392            953   +24\n",
       "117    118            Gavin Babcock        80331           1016   DNF\n",
       "118    118            Jeremy Koling        33705           1020   DNF\n",
       "\n",
       "[119 rows x 5 columns]"
      ]
     },
     "execution_count": 9,
     "metadata": {},
     "output_type": "execute_result"
    }
   ],
   "source": [
    "results['Las Vegas Challenge']"
   ]
  },
  {
   "cell_type": "code",
   "execution_count": null,
   "metadata": {},
   "outputs": [],
   "source": []
  }
 ],
 "metadata": {
  "kernelspec": {
   "display_name": "Python 3",
   "language": "python",
   "name": "python3"
  },
  "language_info": {
   "codemirror_mode": {
    "name": "ipython",
    "version": 3
   },
   "file_extension": ".py",
   "mimetype": "text/x-python",
   "name": "python",
   "nbconvert_exporter": "python",
   "pygments_lexer": "ipython3",
   "version": "3.6.9"
  }
 },
 "nbformat": 4,
 "nbformat_minor": 2
}
